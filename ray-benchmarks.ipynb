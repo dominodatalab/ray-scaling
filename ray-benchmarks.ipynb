{
 "cells": [
  {
   "cell_type": "markdown",
   "id": "e0b2e628-0aa5-4de6-ba0a-fd2dccb39133",
   "metadata": {},
   "source": [
    "## SAMPLE - Create a file 100 MB"
   ]
  },
  {
   "cell_type": "code",
   "execution_count": null,
   "id": "be69ffa3-d7e8-4627-be63-f7d91b77f49f",
   "metadata": {
    "tags": []
   },
   "outputs": [],
   "source": [
    "for i in range(1):\n",
    "    filename = f\"/tmp/f{i+1}.txt\"\n",
    "    with open(filename, \"wb\") as f:\n",
    "        f.seek((1024 * 1024 * (i+1)*100*1) - 1)\n",
    "        f.write(b\"\\0\")\n",
    "    "
   ]
  },
  {
   "cell_type": "markdown",
   "id": "8986b09a-d72f-49bd-8e14-900e3f02d290",
   "metadata": {},
   "source": [
    "## SAMPLE - Make IRSA calls proactively and generate AWS CONFIG FILE"
   ]
  },
  {
   "cell_type": "code",
   "execution_count": null,
   "id": "128a4120-ebee-4474-b77a-15482190279b",
   "metadata": {
    "tags": []
   },
   "outputs": [],
   "source": [
    "#Emulate Side-Car\n",
    "import requests\n",
    "import os\n",
    "\n",
    "\n",
    "#Get Access Token\n",
    "access_token_endpoint='http://localhost:8899/access-token'\n",
    "resp = requests.get(access_token_endpoint)\n",
    "token = resp.text\n",
    "\n",
    "# Get AWS Config File\n",
    "os.environ['SSL_CERT_DIR']='/etc/ssl/certs/irsa'\n",
    "headers = {\n",
    "             \"Content-Type\": \"application/json\",\n",
    "             \"Authorization\": \"Bearer \" + token,\n",
    "        }\n",
    "endpoint='https://irsa-svc.domino-field/map_iam_roles_to_pod_sa'\n",
    "print(f\"Domino Run Id{os.environ['DOMINO_RUN_ID']}\")\n",
    "data = {\"run_id\": os.environ['DOMINO_RUN_ID'], \"irsa_workload_type\":\"cluster-edge\"} ## It fetches this fom the downward api\n",
    "resp = requests.post(endpoint,headers=headers,json=data,verify=False)\n",
    "\n",
    "# Write the AWS Config file contents to the AWS_CONFIG_FILE\n",
    "aws_config_file_contents=''\n",
    "if resp.status_code == 200:\n",
    "    aws_config_file_contents=resp.text\n",
    "    print('Write to config file')\n",
    "    config_file = os.environ[\"AWS_CONFIG_FILE\"]\n",
    "    with open(config_file, \"w\") as f:\n",
    "        f.write(resp.content.decode())\n",
    "aws_config_file_contents"
   ]
  },
  {
   "cell_type": "code",
   "execution_count": null,
   "id": "c4763a23-f9a9-4cb2-a18e-622a3a3f975f",
   "metadata": {
    "tags": []
   },
   "outputs": [],
   "source": [
    "!cat $AWS_CONFIG_FILE"
   ]
  },
  {
   "cell_type": "markdown",
   "id": "3d652999-2f4e-42e2-9d33-c816e167e78f",
   "metadata": {},
   "source": [
    "## SAMPLE - Generate AWS Session Tokens from a AWS Profile"
   ]
  },
  {
   "cell_type": "code",
   "execution_count": null,
   "id": "815d06f8-2908-42a8-ac97-975886b7691b",
   "metadata": {
    "tags": []
   },
   "outputs": [],
   "source": [
    "import boto3\n",
    "session = boto3.Session(profile_name=\"sw-domino-project3-role\")\n",
    "region_name=session.region_name\n",
    "aws_access_key_id=session.get_credentials().access_key\n",
    "aws_secret_access_key=session.get_credentials().secret_key\n",
    "aws_session_token= session.get_credentials().token\n"
   ]
  },
  {
   "cell_type": "markdown",
   "id": "56fdac05-e869-4186-8dfd-e1f15312bc44",
   "metadata": {
    "tags": []
   },
   "source": [
    "## SAMPLE - Ray Worker method\n",
    "\n",
    "1. You pass the AWS Config File Contents directly to the worker\n",
    "2. The worker writes the contents to the path AWS_CONFIG_FILE\n",
    "3. The worker generates AWS Credentials based on AWS PROFILE\n",
    "4. The worker creates a 100 MB file\n",
    "5. The worker writes the 100 MB file to a custom bucket which is accessible by the chosen AWS Profile\n",
    "\n",
    "Note - The experiment is created in the workspace. It is passed directly to the worker as a parameter"
   ]
  },
  {
   "cell_type": "code",
   "execution_count": null,
   "id": "a4b536c6-e115-45c2-a52a-e7d0de33446e",
   "metadata": {
    "tags": []
   },
   "outputs": [],
   "source": [
    "import os\n",
    "import time\n",
    "import ray\n",
    "import mlflow\n",
    "import boto3\n",
    "@ray.remote\n",
    "def mlflow_write_remote(exp_name,worker_id,aws_config_file_contents):\n",
    "    config_file = os.environ[\"AWS_CONFIG_FILE\"]\n",
    "    with open(config_file, \"w\") as f:\n",
    "        f.write(aws_config_file_contents)\n",
    "    session = boto3.Session(profile_name=\"sw-domino-project3-role\")\n",
    "    region_name=session.region_name\n",
    "    aws_access_key_id=session.get_credentials().access_key\n",
    "    aws_secret_access_key=session.get_credentials().secret_key\n",
    "    aws_session_token= session.get_credentials().token\n",
    "    #os.environ['AWS_ROLE_ARN']='arn:aws:iam::946429944765:role/sw-domino-project-based-mlflow-6526f64938a634604600664a'\n",
    "    os.environ['AWS_ACCESS_KEY_ID'] = aws_access_key_id\n",
    "    os.environ['AWS_SECRET_ACCESS_KEY'] = aws_secret_access_key\n",
    "    os.environ['AWS_SESSION_TOKEN'] = aws_session_token\n",
    "    #First create the file of 100 mb\n",
    "    for i in range(1):\n",
    "        filename = f\"/tmp/f{i+1}.txt\"\n",
    "        with open(filename, \"wb\") as f:\n",
    "            f.seek((1024 * 1024 * (i+1)*100) - 1)\n",
    "            f.write(b\"\\0\")\n",
    "        \n",
    "    st = time.time()\n",
    "    \n",
    "    exp = mlflow.get_experiment_by_name(exp_name)    \n",
    "    EXPERIMENT_ID = exp.experiment_id    \n",
    "    with mlflow.start_run(experiment_id=EXPERIMENT_ID) as run:\n",
    "        mlflow.log_artifact(filename, artifact_path='large_files')\n",
    "    end = time.time()\n",
    "    duration = str(end-st)\n",
    "    return duration"
   ]
  },
  {
   "cell_type": "markdown",
   "id": "a8f79fb4-30d1-4cd6-8c8c-5e8cb7243db4",
   "metadata": {},
   "source": [
    "## SAMPLE - Initialize the Ray Connection"
   ]
  },
  {
   "cell_type": "code",
   "execution_count": null,
   "id": "3fcf7b22-804e-4ca4-b381-6b27dd664a6b",
   "metadata": {
    "tags": []
   },
   "outputs": [],
   "source": [
    "import os\n",
    "import time\n",
    "import ray\n",
    "import mlflow\n",
    "import boto3\n",
    "if not ray.is_initialized():\n",
    "    service_host = os.environ[\"RAY_HEAD_SERVICE_HOST\"]\n",
    "    service_port = os.environ[\"RAY_HEAD_SERVICE_PORT\"]\n",
    "    address=f\"ray://{service_host}:{service_port}\"\n",
    "    temp_dir='/mnt/data//{}/'.format(os.environ['DOMINO_PROJECT_NAME']) #set to a dataset\n",
    "    ray.init(address=address)"
   ]
  },
  {
   "cell_type": "markdown",
   "id": "f5481010-86b9-485e-9298-ff11c7701438",
   "metadata": {
    "tags": []
   },
   "source": [
    "## SAMPLE - Configure number of workers and start job"
   ]
  },
  {
   "cell_type": "code",
   "execution_count": null,
   "id": "90e53988-1480-4e9f-acf7-ebe63b2b7ec5",
   "metadata": {
    "tags": []
   },
   "outputs": [],
   "source": [
    "no_of_workers=1\n",
    "cols = []\n",
    "for i in range(no_of_workers):\n",
    "    cols.append(str(i+1))\n",
    "cols.append('Total Run Duration')"
   ]
  },
  {
   "cell_type": "code",
   "execution_count": null,
   "id": "173f62b9-dfbe-4ab9-ba77-c3534c9251bb",
   "metadata": {
    "tags": []
   },
   "outputs": [],
   "source": [
    "import pandas as pd\n",
    "exp_name = 'MY_TEST_RAY_SCALING_EXPERIMENT'\n",
    "exp = None\n",
    "try:\n",
    "    exp = mlflow.get_experiment_by_name(exp_name)    \n",
    "except:\n",
    "    print('Experiment Not Found Create it')\n",
    "\n",
    "if not exp:\n",
    "    mlflow.create_experiment(exp_name)\n",
    "    exp = mlflow.get_experiment_by_name(exp_name)    \n",
    "#print('\\n\\n\\n')\n",
    "#print(f'MLFLOW Tracking Server URI For Scenario 4(Bridgewaters) {scenario_4_tracking_uri}')\n",
    "start_time = time.time()\n",
    "results=[]\n",
    "results_s4 = ray.get([mlflow_write_remote.remote(exp_name,worker_id,aws_config_file_contents) for worker_id in range(no_of_workers)])\n",
    "duration = time.time() - start_time\n",
    "print('Durations')\n",
    "results_s4.append(str(duration))\n",
    "\n",
    "s4_pd = pd.DataFrame.from_dict({'worker_index': cols, 'durations': results_s4})\n",
    "display(s4_pd)\n",
    "print(s4_pd.to_markdown())\n",
    "\n"
   ]
  }
 ],
 "metadata": {
  "dca-init": "true",
  "kernelspec": {
   "display_name": "Python 3 (ipykernel)",
   "language": "python",
   "name": "python3"
  },
  "language_info": {
   "codemirror_mode": {
    "name": "ipython",
    "version": 3
   },
   "file_extension": ".py",
   "mimetype": "text/x-python",
   "name": "python",
   "nbconvert_exporter": "python",
   "pygments_lexer": "ipython3",
   "version": "3.9.15"
  }
 },
 "nbformat": 4,
 "nbformat_minor": 5
}
